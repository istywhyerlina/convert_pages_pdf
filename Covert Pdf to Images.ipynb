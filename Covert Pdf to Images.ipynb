{
 "cells": [
  {
   "cell_type": "markdown",
   "id": "ace10b1a",
   "metadata": {},
   "source": [
    "# EXTRACT PAGES PDF INTO PNG"
   ]
  },
  {
   "cell_type": "code",
   "execution_count": 5,
   "id": "d8babc4e",
   "metadata": {},
   "outputs": [],
   "source": [
    "from pdf2image import convert_from_path\n"
   ]
  },
  {
   "cell_type": "code",
   "execution_count": 6,
   "id": "cdd59005",
   "metadata": {},
   "outputs": [],
   "source": [
    "pdf_file=\"Lampiran Sertifikasi ASP KA Pupuk Cp-Ce.pdf\""
   ]
  },
  {
   "cell_type": "code",
   "execution_count": 7,
   "id": "2ac1db33",
   "metadata": {},
   "outputs": [],
   "source": [
    "images=convert_from_path(pdf_file,poppler_path='C:/Users/istyw/Documents/belajar- Isty/Extract Card Information/poppler-0.67.0/bin')"
   ]
  },
  {
   "cell_type": "code",
   "execution_count": 8,
   "id": "c499b86a",
   "metadata": {},
   "outputs": [],
   "source": [
    "x=1\n",
    "for img in images:\n",
    "    img.save('output'+str(x)+'.png',\"PNG\")\n",
    "    x=x+1"
   ]
  },
  {
   "cell_type": "markdown",
   "id": "4ab43757",
   "metadata": {},
   "source": [
    "# EXTRACT PAGES PDF INTO JPG"
   ]
  },
  {
   "cell_type": "markdown",
   "id": "9ea388fd",
   "metadata": {},
   "source": []
  },
  {
   "cell_type": "code",
   "execution_count": 9,
   "id": "382862b6",
   "metadata": {},
   "outputs": [],
   "source": [
    "import fitz\n",
    "# file path you want to extract images from\n",
    "file = \"Lampiran Sertifikasi ASP KA Pupuk Cp-Ce.pdf\"\n",
    "\n",
    "doc = fitz.open(file)\n",
    "for page in doc:\n",
    "    pix = page.get_pixmap(matrix=fitz.Identity, dpi=None,\n",
    "                          colorspace=fitz.csRGB, clip=None, alpha=True, annots=True)\n",
    "    pix.save(\"samplepdfimage-%i.jpg\" % page.number)  # save file"
   ]
  },
  {
   "cell_type": "code",
   "execution_count": null,
   "id": "324b0b53",
   "metadata": {},
   "outputs": [],
   "source": []
  }
 ],
 "metadata": {
  "kernelspec": {
   "display_name": "Python 3 (ipykernel)",
   "language": "python",
   "name": "python3"
  },
  "language_info": {
   "codemirror_mode": {
    "name": "ipython",
    "version": 3
   },
   "file_extension": ".py",
   "mimetype": "text/x-python",
   "name": "python",
   "nbconvert_exporter": "python",
   "pygments_lexer": "ipython3",
   "version": "3.9.13"
  }
 },
 "nbformat": 4,
 "nbformat_minor": 5
}
